{
  "nbformat": 4,
  "nbformat_minor": 0,
  "metadata": {
    "colab": {
      "name": "Airport",
      "provenance": [],
      "collapsed_sections": [],
      "authorship_tag": "ABX9TyPpzpYjIxlQtYuaG2fKv/If",
      "include_colab_link": true
    },
    "kernelspec": {
      "name": "python3",
      "display_name": "Python 3"
    }
  },
  "cells": [
    {
      "cell_type": "markdown",
      "metadata": {
        "id": "view-in-github",
        "colab_type": "text"
      },
      "source": [
        "<a href=\"https://colab.research.google.com/github/danirigazio/airport/blob/main/Airport.ipynb\" target=\"_parent\"><img src=\"https://colab.research.google.com/assets/colab-badge.svg\" alt=\"Open In Colab\"/></a>"
      ]
    },
    {
      "cell_type": "markdown",
      "metadata": {
        "id": "g07JBSmRGhqk"
      },
      "source": [
        "![aiport diagram](https://raw.githubusercontent.com/danirigazio/airport/main/Airport.png)"
      ]
    },
    {
      "cell_type": "markdown",
      "metadata": {
        "id": "rUARLgMws93e"
      },
      "source": [
        "My partner and I designed the ER diagram of an airport as presented because we thought this would be the best way to organize the data to ensure an airport would run smoothly. We began by choosing the 5 most important entities, and assigning at least three attributes to each. For example, when creating the entity “plane” we made the primary key planeID to make sure this entity was in 1st normal form. By assigning it a primary key, the attributes only refer to the plane that is assigned that planeID, rather than every plane in the airport at once. This is useful when connecting it to the flightNumber of a customer and a pilot because it will organize the data to refer to a singular plane. My partner and I also made sure that every entity has a large purpose in the airport and designed it so that it would interconnect with the other entities and attributes. For example, we understand that customers are one of the most important assets in running an airport, so we made sure to assign as many attributes as necessary that would act as foreign keys. In this way, we could connect customers to their ticket, the plane they are on, and the security they went through. By adding these foreign keys, it allowed us to connect the entities and show the relationships between them, and why they are crucial in the operations of an airport. Our goal was for this diagram to show the inter-relations of an airport that ensure it runs smoothly. \n"
      ]
    }
  ]
}