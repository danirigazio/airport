{
  "nbformat": 4,
  "nbformat_minor": 0,
  "metadata": {
    "colab": {
      "name": "GroupAssignment3.ipynb",
      "provenance": [],
      "collapsed_sections": []
    },
    "kernelspec": {
      "name": "python3",
      "display_name": "Python 3"
    }
  },
  "cells": [
    {
      "cell_type": "code",
      "metadata": {
        "id": "lPHNZrwLUx7z",
        "colab": {
          "base_uri": "https://localhost:8080/",
          "height": 71
        },
        "outputId": "9b1c6f7c-dd1c-4da9-e026-1128e69a15a5"
      },
      "source": [
        "%load_ext sql\n",
        "%sql sqlite:///airportDatabase.db"
      ],
      "execution_count": null,
      "outputs": [
        {
          "output_type": "stream",
          "text": [
            "The sql extension is already loaded. To reload it, use:\n",
            "  %reload_ext sql\n"
          ],
          "name": "stdout"
        },
        {
          "output_type": "execute_result",
          "data": {
            "application/vnd.google.colaboratory.intrinsic+json": {
              "type": "string"
            },
            "text/plain": [
              "'Connected: @airportDatabase.db'"
            ]
          },
          "metadata": {
            "tags": []
          },
          "execution_count": 120
        }
      ]
    },
    {
      "cell_type": "code",
      "metadata": {
        "id": "6pc8r-nrVvF-",
        "colab": {
          "base_uri": "https://localhost:8080/"
        },
        "outputId": "1075d797-de17-40ba-b54f-5430b840e7df"
      },
      "source": [
        "%%sql\n",
        "DROP TABLE IF EXISTS Ticket;\n",
        "create table Ticket(ticketNumber text PRIMARY KEY, date text, price real, flightNumber text);\n",
        "\n",
        "DROP TABLE IF EXISTS Plane;\n",
        "create table Plane(planeID text PRIMARY KEY, planeSize text, planeYear text, amountOfSeats real);\n",
        "\n",
        "DROP TABLE IF EXISTS Transactions;\n",
        "create table Transactions(transactionID text PRIMARY KEY, destinationAirport text, SSN text, ticketPurchase text, flightNumber text, flightClearance text);\n",
        "\n",
        "DROP TABLE IF EXISTS Pilot;\n",
        "create table Pilot(pilotID text PRIMARY KEY, flightNumber text, yearsOfExperience real, flightClearance text);\n",
        "\n",
        "DROP TABLE IF EXISTS SecurityMeasures;\n",
        "create table SecurityMeasures(CheckPointLocation text PRIMARY KEY, metalFound text, liquidDetected text, sharpObjectDiscovery text);\n"
      ],
      "execution_count": null,
      "outputs": [
        {
          "output_type": "stream",
          "text": [
            " * sqlite:///airportDatabase.db\n",
            "Done.\n",
            "Done.\n",
            "Done.\n",
            "Done.\n",
            "Done.\n",
            "Done.\n",
            "Done.\n",
            "Done.\n",
            "Done.\n",
            "Done.\n"
          ],
          "name": "stdout"
        },
        {
          "output_type": "execute_result",
          "data": {
            "text/plain": [
              "[]"
            ]
          },
          "metadata": {
            "tags": []
          },
          "execution_count": 121
        }
      ]
    },
    {
      "cell_type": "code",
      "metadata": {
        "id": "geo5xhHZMf1z",
        "colab": {
          "base_uri": "https://localhost:8080/"
        },
        "outputId": "f91256f2-cc33-47e2-a189-ff5354311a22"
      },
      "source": [
        "%%sql\n",
        "INSERT INTO Ticket VALUES ('23234', '2020-11-14', 200, '225');\n",
        "INSERT INTO Ticket VALUES ('45786', '2020-11-14', 150, '145');\n",
        "INSERT INTO Ticket VALUES ('49008', '2020-11-14', 375, '445');\n",
        "INSERT INTO Ticket VALUES ('67881', '2020-11-18', 325, '130');\n",
        "INSERT INTO Ticket VALUES ('56331', '2020-11-18', 470, '470');\n",
        "\n",
        "INSERT INTO Plane VALUES ('6782', 'light', '2012', 50);\n",
        "INSERT INTO Plane VALUES ('1456', 'light', '2017', 50);\n",
        "INSERT INTO Plane VALUES ('4478', 'jumbo', '2019', 150);\n",
        "INSERT INTO Plane VALUES ('1345', 'mid-size', '2020', 100);\n",
        "INSERT INTO Plane VALUES ('5546', 'jumbo', '2019', 150);\n",
        "\n",
        "INSERT INTO Transactions VALUES ('992', 'JFK', '524-23-2341', '23234', '225', 'yes');\n",
        "INSERT INTO Transactions VALUES ('356', 'ALX', '134-80-6678', '45786', '145', 'yes');\n",
        "INSERT INTO Transactions VALUES ('889', 'Pittsburgh International', '234-56-7890', '49008', '445', 'yes');\n",
        "INSERT INTO Transactions VALUES ('990', 'RNO', '556-890-5567', '49008', '130', 'no');\n",
        "INSERT INTO Transactions VALUES ('112', 'Arndold Palmer', '554-21-2234', '49008', '470', 'yes');\n",
        "\n",
        "INSERT INTO Pilot VALUES ('245673', '225', 10, 'yes');\n",
        "INSERT INTO Pilot VALUES ('377890', '145', 1, 'yes');\n",
        "INSERT INTO Pilot VALUES ('456700', '445', 17, 'yes');\n",
        "INSERT INTO Pilot VALUES ('213556', '130', 4, 'yes');\n",
        "INSERT INTO Pilot VALUES ('890445', '470', 9, 'yes');\n",
        "\n",
        "INSERT INTO SecurityMeasures VALUES ('A', 'yes', 'yes', 'no');\n",
        "INSERT INTO SecurityMeasures VALUES ('B', 'no', 'no', 'no');\n",
        "INSERT INTO SecurityMeasures VALUES ('C', 'no', 'yes', 'no');\n",
        "INSERT INTO SecurityMeasures VALUES ('D', 'yes', 'no', 'no');\n",
        "INSERT INTO SecurityMeasures VALUES ('E', 'no', 'no', 'no');\n",
        "\n",
        "\n",
        "\n",
        "\n",
        "\n",
        "\n"
      ],
      "execution_count": null,
      "outputs": [
        {
          "output_type": "stream",
          "text": [
            " * sqlite:///airportDatabase.db\n",
            "1 rows affected.\n",
            "1 rows affected.\n",
            "1 rows affected.\n",
            "1 rows affected.\n",
            "1 rows affected.\n",
            "1 rows affected.\n",
            "1 rows affected.\n",
            "1 rows affected.\n",
            "1 rows affected.\n",
            "1 rows affected.\n",
            "1 rows affected.\n",
            "1 rows affected.\n",
            "1 rows affected.\n",
            "1 rows affected.\n",
            "1 rows affected.\n",
            "1 rows affected.\n",
            "1 rows affected.\n",
            "1 rows affected.\n",
            "1 rows affected.\n",
            "1 rows affected.\n",
            "1 rows affected.\n",
            "1 rows affected.\n",
            "1 rows affected.\n",
            "1 rows affected.\n",
            "1 rows affected.\n"
          ],
          "name": "stdout"
        },
        {
          "output_type": "execute_result",
          "data": {
            "text/plain": [
              "[]"
            ]
          },
          "metadata": {
            "tags": []
          },
          "execution_count": 122
        }
      ]
    },
    {
      "cell_type": "markdown",
      "metadata": {
        "id": "eq5cjCLLlUmy"
      },
      "source": [
        "How many customers are flying on the same date?"
      ]
    },
    {
      "cell_type": "code",
      "metadata": {
        "id": "gp575QV5lbSf",
        "colab": {
          "base_uri": "https://localhost:8080/",
          "height": 116
        },
        "outputId": "cdf48eed-2feb-46f8-f77e-b1277e6cce33"
      },
      "source": [
        "%%sql\n",
        "SELECT COUNT(date) FROM Ticket GROUP BY date"
      ],
      "execution_count": null,
      "outputs": [
        {
          "output_type": "stream",
          "text": [
            " * sqlite:///airportDatabase.db\n",
            "Done.\n"
          ],
          "name": "stdout"
        },
        {
          "output_type": "execute_result",
          "data": {
            "text/html": [
              "<table>\n",
              "    <tr>\n",
              "        <th>COUNT(date)</th>\n",
              "    </tr>\n",
              "    <tr>\n",
              "        <td>3</td>\n",
              "    </tr>\n",
              "    <tr>\n",
              "        <td>2</td>\n",
              "    </tr>\n",
              "</table>"
            ],
            "text/plain": [
              "[(3,), (2,)]"
            ]
          },
          "metadata": {
            "tags": []
          },
          "execution_count": 123
        }
      ]
    },
    {
      "cell_type": "markdown",
      "metadata": {
        "id": "2MjukMWprn3b"
      },
      "source": [
        "This question is important because it can help the aiport keep track of how many customers will be in the airport on a given day. This can help especially with covid to avoid capacity on a given date."
      ]
    },
    {
      "cell_type": "markdown",
      "metadata": {
        "id": "E6hSEe7pm_uS"
      },
      "source": [
        "What is the average amount of years of experience a pilot has?"
      ]
    },
    {
      "cell_type": "code",
      "metadata": {
        "id": "pda9kYP-nchk",
        "colab": {
          "base_uri": "https://localhost:8080/",
          "height": 95
        },
        "outputId": "6c8b84b2-d8c5-4b79-c131-97df08eb4450"
      },
      "source": [
        "%%sql\n",
        "SELECT AVG(yearsOfExperience) FROM Pilot"
      ],
      "execution_count": null,
      "outputs": [
        {
          "output_type": "stream",
          "text": [
            " * sqlite:///airportDatabase.db\n",
            "Done.\n"
          ],
          "name": "stdout"
        },
        {
          "output_type": "execute_result",
          "data": {
            "text/html": [
              "<table>\n",
              "    <tr>\n",
              "        <th>AVG(yearsOfExperience)</th>\n",
              "    </tr>\n",
              "    <tr>\n",
              "        <td>8.2</td>\n",
              "    </tr>\n",
              "</table>"
            ],
            "text/plain": [
              "[(8.2,)]"
            ]
          },
          "metadata": {
            "tags": []
          },
          "execution_count": 124
        }
      ]
    },
    {
      "cell_type": "markdown",
      "metadata": {
        "id": "sEauBqa0qXCK"
      },
      "source": [
        "This question is important because it helps the airport know around how much experience their pilots have. This will help keep the airport in check with their customers and will give a basis for future pilot prospects."
      ]
    },
    {
      "cell_type": "markdown",
      "metadata": {
        "id": "hEDDiQ1-oR-U"
      },
      "source": [
        "What flight number is arriving at JFK airport?"
      ]
    },
    {
      "cell_type": "code",
      "metadata": {
        "id": "KlemjmzLoWZV",
        "colab": {
          "base_uri": "https://localhost:8080/",
          "height": 95
        },
        "outputId": "ebcc9700-1d5b-4d93-d07e-2ae418482c14"
      },
      "source": [
        "%%sql\n",
        "SELECT flightNumber FROM Transactions WHERE destinationAirport = \"JFK\""
      ],
      "execution_count": null,
      "outputs": [
        {
          "output_type": "stream",
          "text": [
            " * sqlite:///airportDatabase.db\n",
            "Done.\n"
          ],
          "name": "stdout"
        },
        {
          "output_type": "execute_result",
          "data": {
            "text/html": [
              "<table>\n",
              "    <tr>\n",
              "        <th>flightNumber</th>\n",
              "    </tr>\n",
              "    <tr>\n",
              "        <td>225</td>\n",
              "    </tr>\n",
              "</table>"
            ],
            "text/plain": [
              "[('225',)]"
            ]
          },
          "metadata": {
            "tags": []
          },
          "execution_count": 125
        }
      ]
    },
    {
      "cell_type": "markdown",
      "metadata": {
        "id": "tTC-Vqy1pllM"
      },
      "source": [
        "This question is important because it ensures that the flight number that is given to a customer on their ticket is the correct one that is arriving at their destination. The output is what we expected because it is the flight number from the same row that JFK is in, which means that the customer was given the correct ticket. \n",
        "\n",
        "---\n",
        "\n"
      ]
    }
  ]
}